{
  "nbformat": 4,
  "nbformat_minor": 0,
  "metadata": {
    "colab": {
      "provenance": [],
      "authorship_tag": "ABX9TyM7sFr3t94BqX4kbzu7I/4s"
    },
    "kernelspec": {
      "name": "python3",
      "display_name": "Python 3"
    },
    "language_info": {
      "name": "python"
    }
  },
  "cells": [
    {
      "cell_type": "markdown",
      "source": [
        "#**BUILT-IN FUNCTIONS IN SQL**\n",
        "\n",
        "Built-in functions are predefined functions provided by SQL Server (or any RDBMS) that allow you to perform operations on data directly in your SQL queries — such as mathematical calculations, string manipulations, date processing, and more.\n",
        "\n",
        "They accept input values (parameters) and return a single value as output.\n",
        "\n",
        "1. **String Function**: The functions which performs operations on strings.\n",
        "\n",
        "  * CONCAT()\n",
        "  * LOWER() & UPPER()\n",
        "  * TRIM()\n",
        "  * REPLACE()\n",
        "  * LEN()\n",
        "  * LEFT() & RIGHT()\n",
        "  * SUBSTRING()\n",
        "\n",
        "2. **Numeric Functions**: These functions do mathematical operations.\n",
        "\n",
        "  * ROUND()\n",
        "  * ABS()\n",
        "\n",
        "3. **Date and Time Functions**: These functions works with date and time values.\n",
        "\n",
        "  * GETDATE()\n",
        "  * DAY() & MONTH() & YEAR()\n",
        "  * DATEPART()\n",
        "  * DATENAME()\n",
        "  * DATETRUNC()\n",
        "  * EOMONTH()\n",
        "  * FORMAT()\n",
        "  * CONVERT()\n",
        "  * CAST()\n",
        "  * DATEADD()\n",
        "  * DATEDIFF()\n",
        "  * ISDATE()\n",
        "\n",
        "4. **NULL Functions**: These functions checks the NULL values and perform operations.\n",
        "\n",
        "  * IS NULL() & IS NOT NULL()\n",
        "  * COALESCE()\n",
        "  * NULLIF()\n",
        "\n",
        "5. **Case Statement Functions**: Performs similar to if/else condition.\n",
        "\n",
        "6. **Aggregate Functions**: These functions returns a summary value.\n",
        "\n",
        "  * COUNT()\n",
        "  * SUM()\n",
        "  * AVG()\n",
        "  * MAX()\n",
        "  * MIN()\n"
      ],
      "metadata": {
        "id": "owNmRiViZugt"
      }
    },
    {
      "cell_type": "markdown",
      "source": [
        "#**JOINS**\n",
        "\n",
        "Joins in SQL are used to combine rows from two or more tables based on a related column between them.\n",
        "\n",
        "They allow you to query data from multiple tables as if it were in a single table.\n",
        "\n",
        "We use joins because real-world databases are normalized, data is spread across multiple related tables (e.g., Customers, Orders). Joins let you retrieve combined data from these related tables.\n",
        "\n",
        "###**Types of Joins**\n",
        "\n",
        "1. **INNER JOIN**: Returns only matching rows in both tables.\n",
        "\n",
        "2. **LEFT JOIN**: Returns all rows from left, and matching rows from right (or NULLs)\n",
        "\n",
        "3. **RIGHT JOIN**: Returns all rows from right, and matching rows from left (or NULLs)\n",
        "\n",
        "4. **FULL JOIN**: Returns all rows from both tables; NULLs where no match is found\n",
        "\n",
        "5. **CROSS JOIN**: Returns cartesian product of both tables (all possible combinations)"
      ],
      "metadata": {
        "id": "qyv2S_MKgV5H"
      }
    },
    {
      "cell_type": "markdown",
      "source": [
        "#**SUBQUERIES**\n",
        "\n",
        "A subquery is a query inside another query. It allows you to:\n",
        "\n",
        "* Filter data\n",
        "\n",
        "* Return values for comparisons\n",
        "\n",
        "* Act as virtual tables\n",
        "\n",
        "* Build complex logic step-by-step\n",
        "\n",
        "You’ll often see them in SELECT, WHERE, JOIN or FROM clauses.\n",
        "\n",
        "###**Types of Subquery**\n",
        "\n",
        "1. Scalar Subquery : Returns single value.\n",
        "\n",
        "2. Row Subquery : Returns multiple rows.\n",
        "\n",
        "3. Correlated Subquery : Uses columns from the outer query.\n",
        "\n",
        "4. Non-Correlated Subquery : Independent of outer query."
      ],
      "metadata": {
        "id": "Day3EzIuiMRK"
      }
    }
  ]
}