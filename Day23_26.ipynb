{
  "nbformat": 4,
  "nbformat_minor": 0,
  "metadata": {
    "colab": {
      "provenance": [],
      "authorship_tag": "ABX9TyPadTcCj5dJnmbI60gOh18A"
    },
    "kernelspec": {
      "name": "python3",
      "display_name": "Python 3"
    },
    "language_info": {
      "name": "python"
    }
  },
  "cells": [
    {
      "cell_type": "markdown",
      "source": [
        "#**VIEWS**\n",
        "\n",
        "A view in SQL is a saved SQL query that acts as a virtual table. Unlike regular tables, views do not store data themselves. Instead, they dynamically generate data by executing the SQL query defined in the view each time it is accessed. It can fetch data from one or more tables and present it in a customized format, allowing developers to:\n",
        "\n",
        "*   Simplify Complex Queries\n",
        "*   Enhance Security\n",
        "*   Present Data Flexibly\n",
        "\n"
      ],
      "metadata": {
        "id": "i78jG6hOk_VX"
      }
    },
    {
      "cell_type": "markdown",
      "source": [
        "#**IDENTITY COLUMNS**\n",
        "\n",
        "Identity column of a table is a column whose value increases automatically. The value in an identity column is created by the server. A user generally cannot insert a value into an identity column. Identity column can be used to uniquely identify the rows in the table.\n",
        "\n",
        "SYNTAX : IDENTITY [( seed, increment)]\n",
        "\n",
        "  * Seed: Starting value of a column. Default value is 1.\n",
        "  * Increment: Incremental value that is added to the identity value of the previous row that was loaded. The default value 1.\n",
        "\n",
        "  "
      ],
      "metadata": {
        "id": "h5Un_tJ9nKrj"
      }
    },
    {
      "cell_type": "markdown",
      "source": [
        "#**SEQUENCES**\n",
        "\n",
        "SQL sequences are user-defined database objects designed to generate a series of numeric values. Unlike identity columns, which are tightly bound to specific tables, sequences are independent objects and can be used across multiple tables. They allow applications to retrieve the next number in a sequence whenever needed, offering a simple and efficient way to generate unique numbers on demand.\n",
        "\n",
        "The values in a sequence can be configured to be generated in ascending or descending order, and the sequence can be set to restart (cycle) once the maximum value is exceeded. This makes SQL sequences particularly useful in scenarios where there is a need for continuous, unique values, such as generating primary keys or serial numbers.\n",
        "\n",
        "SYNTAX: CREATE SEQUENCE sequence_name\n",
        "START WITH initial_value\n",
        "INCREMENT BY increment_value\n",
        "MINVALUE minimum value\n",
        "MAXVALUE maximum value\n",
        "CYCLE|NOCYCLE ;"
      ],
      "metadata": {
        "id": "vcErnSnpos3_"
      }
    }
  ]
}