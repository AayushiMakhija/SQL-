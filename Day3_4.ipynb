{
  "nbformat": 4,
  "nbformat_minor": 0,
  "metadata": {
    "colab": {
      "provenance": [],
      "authorship_tag": "ABX9TyOWeSoyXe2ap+QnfEOuq8VA"
    },
    "kernelspec": {
      "name": "python3",
      "display_name": "Python 3"
    },
    "language_info": {
      "name": "python"
    }
  },
  "cells": [
    {
      "cell_type": "markdown",
      "source": [
        "#**SQL SERVER**\n",
        "\n",
        "SQL Server is a relational database management system (RDBMS) developed by Microsoft. It is designed to store, retrieve and manage data efficiently using SQL (Structured Query Language) as its primary query language.\n",
        "\n",
        "SQL Server supports various data types, transactions and security mechanisms, making it a versatile solution for managing databases in diverse environments.\n",
        "\n",
        "It is widely used in applications ranging from online transaction processing (OLTP) systems to data warehousing and business intelligence.\n",
        "\n",
        "#**SQL SERVER ARCHITECTURE**\n",
        "\n",
        "SQL Server's architecture can be broadly divided into three main layers:\n",
        "\n",
        "1. **Protocol Layer:** This layer manages the communication between the SQL Server and its clients. It handles different network protocols such as TCP/IP, Named Pipes and Shared Memory, allowing clients to connect to the server and execute queries.\n",
        "\n",
        "2. **Relational Engine:** It is also known as Query Processor. It  is responsible for processing SQL queries. It includes components such as the Query Parser, Query Optimizer, and Execution Engine. The Query Parser checks the syntax of SQL queries, the Query Optimizer generates the most efficient execution plan, and the Execution Engine carries out the query execution.\n",
        "\n",
        "3. **Storage Engine:** The storage engine manages the storage, retrieval, and management of data in the databases. It handles tasks such as indexing, locking, logging and transaction management. The storage engine ensures data integrity, consistency, and durability, even in the event of system failures.\n",
        "\n",
        "\n",
        "###**COMPONENTS OF SQL SERVER ARCHITECTURE**\n",
        "\n",
        "1. **SQL Server Database Engine:** The fundamental service responsible for storing, processing, and managing data, including ensuring data integrity and security. It provides access and control over the databases and is responsible for executing the SQL commands.\n",
        "\n",
        "2. **SQL Server Agent:** A background service that executes scheduled administrative tasks, such as backups and maintenance plans.\n",
        "\n",
        "3. **SQL Server Reporting Services (SSRS):** A component for generating and managing reports. It allows users to create, manage, and deploy reports based on data from SQL Server.\n",
        "\n",
        "4. **SQL Server Integration Services (SSIS):** A platform for building data integration and workflow applications. It enables the extraction, transformation, and loading (ETL) of data between different systems.\n",
        "\n",
        "5. **SQL Server Analysis Services (SSAS):** A tool used for online analytical processing (OLAP) and data mining. It allows for the creation of multidimensional data models that support complex queries and analysis.\n",
        "\n",
        "####**USES OF SQL SERVER**\n",
        "\n",
        "1. Data Storage and Management\n",
        "2. Business Intelligence\n",
        "3. Web Applications\n",
        "4. Data Warehousing\n",
        "\n",
        "\n",
        "\n",
        "\n",
        "\n",
        "\n",
        "\n",
        ""
      ],
      "metadata": {
        "id": "kCnHOgj-OBlx"
      }
    },
    {
      "cell_type": "markdown",
      "source": [
        "#**INSTALLATION OF SQL SERVER**\n",
        "\n",
        "1. Download the SQL Server Installation Media:  \n",
        "  *   Go to the Microsoft SQL Server Downloads page\n",
        "  *   Choose the edition you want (e.g., Developer, Express, or Standard) and download the installer.\n",
        "\n",
        "2. Run the SQL Server Installer:\n",
        "\n",
        "  *   Locate the downloaded installer file and run it.\n",
        "  *   The SQL Server Installation Center will open.\n",
        "\n",
        "3. Choose Installation Type:\n",
        "\n",
        "  *   Select the installation type: Basic (recommended for beginners) or Custom (for more advanced configurations).\n",
        "\n",
        "4. Accept the License Terms:\n",
        "\n",
        "  *   Review the license agreement and accept the terms.\n",
        "\n",
        "5. Installation Progress:\n",
        "\n",
        "  *   The installer will download and install the required SQL Server components.\n",
        "  *   You can monitor the progress in the Installation Progress window.\n",
        "\n",
        "6.  Post-Installation:\n",
        "\n",
        "  *   Once the installation is complete, you may be prompted to install SQL Server Management Studio (SSMS).\n",
        "  *   SSMS allows you to manage and configure your SQL Server instance.\n",
        "  *    You might also need to configure the SQL Server instance, including setting up authentication and service accounts.\n",
        "\n",
        "\n",
        "\n",
        "\n",
        "\n",
        "\n"
      ],
      "metadata": {
        "id": "feo6UAW-IA1b"
      }
    },
    {
      "cell_type": "markdown",
      "source": [
        "#**SQL VS T-SQL VS PL/SQL**\n",
        "\n",
        "|Feature | SQL | T-SQL | PL/SQL |\n",
        "| -------- | -------- | -------- | -------- |\n",
        "| **Full Form** | Structured Query Language | Transact-SQL | Procedural Language extensions to SQL |\n",
        "| **Developer** | ANSI / ISO standard | Microsoft (used in SQL Server and Azure SQL Database) | Oracle Corporation |\n",
        "| **Type** | Declarative language |Procedural extension of SQL | Procedural extension of SQL |\n",
        "| **Purpose** | Used for querying, updating, and managing relational data | Adds procedural features to SQL (e.g., control-of-flow) | Combines SQL with procedural programming for Oracle databases |\n",
        "|**Procedural Capabilities** | Not procedural | Supports procedural constructs (loops, if-else, etc.) | Fully procedural (supports loops, functions, triggers, exceptions) |\n",
        "| **Use Case**  | Basic querying and data manipulation | Advanced operations in Microsoft SQL Server | Complex application logic inside Oracle databases |\n",
        "| **Exception Handling** | No | Basic TRY...CATCH mechanism | Robust exception handling using EXCEPTION block |\n",
        "| **Portability**  | Highly portable (standardized) | Less portable (specific to Microsoft SQL Server) | Less portable (specific to Oracle DB) |\n",
        "| **Compilation**  | Not compiled (directly executed) | Stored procedures can be compiled | PL/SQL blocks are compiled into bytecode |\n",
        "| **Integration with Host Languages**  | Limited | Supports integration via embedded SQL or APIs | Strong integration in Oracle's development environment |"
      ],
      "metadata": {
        "id": "covy-tZSJwG-"
      }
    }
  ]
}