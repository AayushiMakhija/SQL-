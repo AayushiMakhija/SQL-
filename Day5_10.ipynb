{
  "nbformat": 4,
  "nbformat_minor": 0,
  "metadata": {
    "colab": {
      "provenance": [],
      "authorship_tag": "ABX9TyPl12TPnyHzCvVVQx6AJuHE"
    },
    "kernelspec": {
      "name": "python3",
      "display_name": "Python 3"
    },
    "language_info": {
      "name": "python"
    }
  },
  "cells": [
    {
      "cell_type": "markdown",
      "source": [
        "#**SQL SUBLANGUAGES**\n",
        "\n",
        "SQL consists of 5 types of sub-languages:\n",
        "1. Data Definition Language(DDL)\n",
        "2. Data Manipulation Language(DML)\n",
        "3. Data Query Language(DQL)\n",
        "4. Data Control Language(DCL)\n",
        "5. Transaction Control Language(TCL)"
      ],
      "metadata": {
        "id": "DeN5zA729lTi"
      }
    },
    {
      "cell_type": "markdown",
      "source": [
        "####**DATA DEFINITION LANGUAGE**\n",
        "\n",
        "Data Definition Language actually consists of the SQL commands that can be used for defining, altering, and deleting database structures such as tables, indexes, and schemas. It simply deals with descriptions of the database schema and is used to create and modify the structure of database objects in the database.\n",
        "\n",
        "Common DDL commands:\n",
        "1. **CREATE**: Creates database and its objects.\n",
        "\n",
        "    Syntax : CREATE TABLE table_name(column1 datatype, column2 datatype,...);\n",
        "\n",
        "2. **DROP**: Delete objects from the database.\n",
        "\n",
        "    Syntax: DROP TABLE table_name;\n",
        "\n",
        "3. **ALTER**: Alter the structure of the database.\n",
        "\n",
        "    Syntax: ALTER TABLE table_name ADD COLUMN column_name datatype;\n",
        "\n",
        "4. **TRUNCATE**: Delete the data from the table.\n",
        "\n",
        "    Syntax: TRUNCATE TABLE table_name;\n",
        "\n",
        "\n",
        "\n"
      ],
      "metadata": {
        "id": "zfjQIFeu2aph"
      }
    },
    {
      "cell_type": "markdown",
      "source": [
        "####**DATA MANIPULATION LANGUAGE**\n",
        "\n",
        "Data Manipulation Language consists of the SQL commands that deal with the manipulation of the data present in the database.\n",
        "\n",
        "Common DML commands:\n",
        "\n",
        "1. **INSERT**: Insert the data into the table.\n",
        "\n",
        "    Syntax: INSERT INTO table_name(column1, column2, ...) VALUES (value1, value2, ...);\n",
        "\n",
        "2. **UPDATE**: Update the existing data in the table.\n",
        "\n",
        "    Syntax: UPDATE table_name SET column1 = value1, column2 = value2 WHERE condition;\n",
        "\n",
        "3. **DELETE**: Delete the data from the table.\n",
        "(*Note:* Delete creates rollback segments, while truncate doesn't. You can recover deleted data with delete, but you can't with truncate.)\n",
        "\n",
        "    Syntax: DELETE FROM table_name WHERE condition;"
      ],
      "metadata": {
        "id": "Eo7lFWeV9oqJ"
      }
    },
    {
      "cell_type": "markdown",
      "source": [
        "####**DATA QUERY LANGUAGE**\n",
        "\n",
        " Data Query Language consists SQL commands used for performing queries on the data within schema objects. The purpose of the DQL Command is to get some schema relation based on the query passed to it. This command allows getting the data out of the database to perform operations with it.\n",
        "\n",
        " Common DQL command:\n",
        "\n",
        " 1. SELECT: Used to retrieve the data from the database.\n",
        "\n",
        "    Syntax: SELECT * FROM table_name;"
      ],
      "metadata": {
        "id": "SDZOGvQl_x2e"
      }
    },
    {
      "cell_type": "markdown",
      "source": [
        "####**DATA CONTROL LANGUAGE**\n",
        "\n",
        "Data Control Language consists SQL commands which mainly deal with the rights, permissions, and other controls of the database system. These commands are used to control access to data in the database by granting or revoking permissions.\n",
        "\n",
        "Common DCL commands:\n",
        "\n",
        "1. GRANT: Used to grant the permissions to the user, allowing access to specific database objects, actions, or functions.\n",
        "\n",
        "    Syntax: GRANT privilege_type [(column_list)] ON [object_type] object_name TO user [WITH GRANT OPTION];\n",
        "\n",
        "2. REVOKE: Used to remove previously granted permissions from the user, taking away their access to certain database objects or actions.\n",
        "\n",
        "    Syntax: REVOKE [GRANT OPTION FOR] privilege_type [(column_list)] ON [object_type] object_name FROM user [CASCADE];"
      ],
      "metadata": {
        "id": "j0psDQrKC3tJ"
      }
    },
    {
      "cell_type": "markdown",
      "source": [
        "####**TRANSACTION CONTROL LANGUAGE**\n",
        "\n",
        "Transactions group a set of tasks into a single execution unit. Each transaction begins with a specific task and ends when all the tasks in the group are successfully completed. If any of the tasks fail, the transaction fails. Therefore, a transaction has only two results: success or failure.\n",
        "\n",
        "Common TCL commands:\n",
        "\n",
        "1. BEGIN TRANSACTION: Starts a new transaction.\n",
        "\n",
        "    Syntax: BEGIN TRANSACTION [transaction_name];\n",
        "\n",
        "2. COMMIT: Saves all changes made during the transaction.\n",
        "\n",
        "    Syntax: COMMIT TRANSACTION;\n",
        "\n",
        "3. ROLLBACK: Undoes all changes made during the transaction.\n",
        "\n",
        "    Syntax: ROLLBACK TRANSACTION;\n",
        "\n",
        "4. SAVE TRANSACTION: Creates a savepoint within the current transaction.\n",
        "\n",
        "    Syntax: SAVE TRANSACTION savepoint_name;"
      ],
      "metadata": {
        "id": "QJqmuBNhGAoV"
      }
    },
    {
      "cell_type": "markdown",
      "source": [
        "###**Functional Dependency (FD)**\n",
        "\n",
        "It's a relationship between the primary key attribute (usually) of the relation to that of the other attribute of the\n",
        "relation.\n",
        "\n",
        "X -> Y, the left side of FD is known as a Determinant, the right side of the production is known as a Dependent.\n",
        "\n",
        "#####**Types of FD**\n",
        "\n",
        "1. Trivial FD: A → B has trivial functional dependency if B is a subset of A. A->A, B->B are also Trivial FD.\n",
        "\n",
        "2. Non-trivial FD: A → B has a non-trivial functional dependency if B is not a subset of A. [A intersection B is NULL].\n",
        "\n",
        "#####**Rules of FD**\n",
        "\n",
        "1. Reflexive : If ‘A’ is a set of attributes and ‘B’ is a subset of ‘A’. Then, A→ B holds.\n",
        "\n",
        "2. Augmentation : If B can be determined from A, then adding an attribute to this functional dependency won’t change anything.\n",
        "\n",
        "  If A→ B holds, then AX→ BX holds too\n",
        "  . ‘X’ being a set of attributes.\n",
        "\n",
        "3. Transitivity : If A determines B and B determines C, we can say that A determines C.\n",
        "\n",
        "  If A→ B and B→ C then A→ C.\n",
        "\n",
        "###**Anomalies**\n",
        "\n",
        "Anomalies means abnormalities. There are three types of anomalies introduced by data redundancy:\n",
        "\n",
        "1. Insertion Anomaly: When certain data (attribute) can not be inserted into the DB without the presence of other data.\n",
        "\n",
        "2. Deletion Anomaly: When the deletion of data results in the unintended loss of some other important data.\n",
        "\n",
        "3. Updation Anomaly: When an update of a single data value requires multiple rows of data to be updated. Due to updation to many places, may be Data inconsistency arises, if one forgets to update the data at all the intended places.\n",
        "\n",
        "Due to these anomalies, DB size increases and DB performance become very slow.To rectify these anomalies and the effect of these of DB, we use Database optimisation technique called\n",
        "Normalisation."
      ],
      "metadata": {
        "id": "Z3lYCwE9eB1W"
      }
    },
    {
      "cell_type": "markdown",
      "source": [
        "#**DATABASE NORMALIZATION**\n",
        "\n",
        "Normalisation is a step towards DB optimisation. It is used to minimise the redundancy from a relations. It is also used to eliminate undesirable\n",
        "characteristics like Insertion, Update, and Deletion Anomalies.\n",
        "\n",
        "Normalisation divides the composite attributes into individual attributes OR larger table into smaller and links them using relationships.\n",
        "\n",
        "The normal form is used to reduce redundancy from the database table.\n",
        "\n",
        "\n",
        "####**TYPES OF NORMAL FORM**\n",
        "\n",
        "1. **1NF** : Table is referred to 1NF if the atomicity of table is 1. Atomicity states that the single cell connot hold the multiplt values ; it must hold sinlge attribute.\n",
        "\n",
        "  It disallows the multi-valued attribute, composite attribute and their combinations.\n",
        "\n",
        "* Candidate Key: It is a set of one or more columns that can identify a record uniquely in a table and you can use each candidate key as a Primary Key.\n",
        "\n",
        "* Super Key: It is set of more than one key uniquely identifying a table record. The Primary Key is a subset of Super Key.\n",
        "\n",
        "2. **2NF** : Table is referred as 2NF when:\n",
        "  * The table is in 1NF\n",
        "  * The table should not posses the partial dependency.\n",
        "\n",
        "  Partial dependency here means the proper subset of the candidate key should give a non-prime attribute.\n",
        "\n",
        "3. **3NF** : Table is reffered to 3NF when:\n",
        "  * The table is in 2NF and\n",
        "  * There should be no transitive dependency for non-prime attribute which indicates that non-prime attributes (not the part of candidate key) should not depend on other non-prime attributes in a table.\n",
        "\n",
        "4. **BCNF(Boyce-Codd Normal Form)** : A table is reffered as in BCNF when:\n",
        "  * The table is in 3NF and\n",
        "  * Every RHS attribute of FD should depend on the super key of that table and we must not derive prime attribute from any prime or non-prime attribute.\n",
        "\n",
        "  "
      ],
      "metadata": {
        "id": "SNb68zo-HsEN"
      }
    },
    {
      "cell_type": "markdown",
      "source": [
        "#**Integrity Constraints**\n",
        "\n",
        "In Database Management Systems, integrity constraints are pre-defined set of rules that are applied on the table fields(columns) or relations to ensure that the overall validity, integrity, and consistency of the data present in the database table is maintained. Evaluation of all the conditions or rules mentioned in the integrity constraint is done every time a table insert, update, delete, or alter operation is performed. The data can be inserted, updated, deleted, or altered only if the result of the constraint comes out to be True. Thus, integrity constraints are useful in preventing any accidental damage to the database by an authorized user.\n",
        "\n",
        "###**Types of Integrity Constraints:**\n",
        "\n",
        "1. **Domain Constraints**: Domain Constraints are user-defined columns that help the user to enter the value according to the data type. And if it encounters a wrong input it gives the message to the user that the column is not fulfilled properly.\n",
        "\n",
        "2. **Entity Integrity Constraints**: It state that primary key can never contain null value because primary key is used to determine individual rows in a relation uniquely, if primary key contains null value then we cannot identify those rows. A table can contain null value in it except primary key field.\n",
        "\n",
        "3. **Key Constraints**: It ensure that certain columns or combinations of columns in a table uniquely identify each row. These rules are essential for maintaining data integrity and preventing duplicate or ambiguous records.\n",
        "\n",
        "4. **Referential integrity constraints**: These are rules that ensure relationships between tables remain consistent. They enforce that a foreign key in one table must either match a value in the referenced primary key of another table or be NULL. This guarantees the logical connection between related tables in a relational database."
      ],
      "metadata": {
        "id": "oznAeDbdxGqj"
      }
    }
  ]
}