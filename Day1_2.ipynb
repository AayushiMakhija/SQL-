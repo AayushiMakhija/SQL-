{
  "nbformat": 4,
  "nbformat_minor": 0,
  "metadata": {
    "colab": {
      "provenance": [],
      "authorship_tag": "ABX9TyOflrk6gPUqdxukNa67Jkcx"
    },
    "kernelspec": {
      "name": "python3",
      "display_name": "Python 3"
    },
    "language_info": {
      "name": "python"
    }
  },
  "cells": [
    {
      "cell_type": "markdown",
      "source": [
        "#**BASICS OF DATA**\n",
        "\n",
        "Data is raw, unorganized information. It can take many forms, including numbers, text, images, and sound. This raw information is then processed and transformed to become insightfull information used for decision-making and problem-solving.\n",
        "\n",
        "####**Types of data:**\n",
        "\n",
        "1. Analog vs. Digital: Analog data is continuous, while digital data is discrete and stored in binary form.\n",
        "\n",
        "2. Nominal, Ordinal, Discrete, Continuous: These are categories based on how data is measured and its properties.\n",
        "\n",
        "3. Structured vs. Unstructured: Structured data has a defined format (e.g., in a database), while unstructured data is more flexible."
      ],
      "metadata": {
        "id": "28kkNy5P5zng"
      }
    },
    {
      "cell_type": "markdown",
      "source": [
        "#**DATABASE**\n",
        "\n",
        "A database is an systematic collection of data that can include words, numbers, images, videos, and other types of files. Databases are managed using specialized software called a Database Management System (DBMS), which allows users to store, retrieve, and manipulate data efficiently.\n",
        "\n",
        "#####**IMPORTANCE:**\n",
        "\n",
        "1. Efficient Scaling\n",
        "2. Data Integrity\n",
        "3. Data Security\n",
        "4. Data Analytics\n",
        "\n",
        "#####**COMPONENTS:**\n",
        "\n",
        "1. Data: It is the core component of any database, representing the actual information stored. It can include numbers, text, images, videos, or documents, depending on the database's purpose.\n",
        "\n",
        "2. Schema: It is the blueprint or structure of the database. It defines how data is organized and includes details like tables, columns, data types, and relationships between entities.\n",
        "\n",
        "3. DBMS: The DBMS is the software layer that enables interaction with the database. It manages the storage, retrieval, and manipulation of data while ensuring security and data integrity.\n",
        "\n",
        "4. Oueries: These are commands used to interact with the database, allowing users to retrieve, manipulate, or update data.\n",
        "\n",
        "5. Users: These are individuals or applications that interact with the database. They can have different levels of access based on their roles, such as administrators, developers, or end-users.\n",
        "\n",
        "#####**TYPES OF DATABASES:**\n",
        "\n",
        "1. Relational Databases: A relational database's contents are arranged as a collection of tables with rows and columns. Accessing structured data is made most flexible and efficient by relational database technology.\n",
        "\n",
        "  Examples: MySQL, PostgreSQL, Oracle, Microsoft SQL Server.\n",
        "\n",
        "2. Object-Oriented Databases: The type of database that uses the object-based data model approach for storing data in the database system is called Object-Oriented Databases. The data is represented and stored as objects which are similar to the objects used in the object-oriented programming language.\n",
        "\n",
        "  Example: ObjectDB.\n",
        "\n",
        "\n",
        "3. Distributed Databases: It is made up of two or more files that are spread across multiple locations. The database could be dispersed across many networks, housed in one physical place, or kept on several computers.\n",
        "\n",
        "  Examples: Google Spanner, Apache Cassandra.\n",
        "\n",
        "\n",
        "4. Centralized Database: It stores data at a centralized database system. It comforts the users to access the stored data from different locations through several applications. These applications contain the authentication process to let users access data securely.\n",
        "\n",
        "5. NoSQL Databases: It handle unstructured and semi-structured data. They are highly scalable and flexible, making them ideal for real-time applications.\n",
        "\n",
        "  Examples: MongoDB, Cassandra, DynamoDB.\n",
        "\n",
        "6. Graph Databases: It prioritize relationships between data objects. They use nodes (data entities) and edges (relationships) to model data.\n",
        "\n",
        "  Examples: Neo4j, Amazon Neptune.\n",
        "\n",
        "7. Cloud databases: A collection of organized or unorganized data that is housed on a private, public, or hybrid cloud computing platform is known as a cloud database. Cloud database models come in two flavors: traditional and database as a service (DBaaS). With DBaaS, a service provider handles maintenance and administrative duties.\n",
        "\n",
        "  Examples: Amazon RDS, Google BigQuery, Microsoft Azure SQL Database.\n",
        "\n",
        "#####**DATABASE MODELS:**\n",
        "\n",
        "1. Hierarchical Model: The hierarchical model organizes data in a tree-like structure with parent-child relationships.\n",
        "\n",
        "  Limitation: It is difficult to manage many-to-many relationships, and modifying the structure can be complex.\n",
        "\n",
        "2. Network Model: It is an extension of the hierarchical model that supports many-to-many relationships between data entities connected by links.\n",
        "\n",
        "  Limitation: It requires extensive programming for database operation\n",
        "\n",
        "3. Relational Model: It organizes data into tables, where rows represent records and columns represent attributes. Relationships between tables are established using primary keys and foreign keys.\n",
        "\n",
        "  Limitation: It may struggle with very large datasets or unstructured data.\n",
        "\n",
        "4. Object-Oriented Model: It integrates object-oriented programming principles with database management. Data is represented as objects, which include attributes (properties) and methods (functions).\n",
        "\n",
        "  Limitation: Less widely adopted compared to relational databases.\n",
        "\n",
        "5. Document Model: It stores data in document-like formats such as JSON, XML, or BSON. Each document is self-contained and can include nested structures, making it suitable for semi-structured and unstructured data.\n",
        "\n",
        "  Limitation: Querying complex relationships can be less straightforward compared to relational models."
      ],
      "metadata": {
        "id": "NC666nR7AxXg"
      }
    },
    {
      "cell_type": "markdown",
      "source": [
        "#**DBMS(DATABASE MANAGEMENT SYSTEM)**\n",
        "\n",
        "A DBMS is a system that allows users to create, modify, and query databases while ensuring data integrity, security, and efficient data access. Unlike traditional file systems, DBMS minimizes data redundancy, prevents inconsistencies, and simplifies data management with features like concurrent access and backup mechanisms. It organizes data into tables, views, schemas, and reports, providing a structured approach to data management.\n",
        "\n",
        "\n",
        "#####**TYPES OF DBMS:**\n",
        "\n",
        "1. Relational Database Management System (RDBMS): It organizes data into tables composed of rows and columns. It uses primary keys to uniquely identify rows and foreign keys to establish relationships between tables. Queries are written in SQL (Structured Query Language), which allows for efficient data manipulation and retrieval.\n",
        "\n",
        "  Examples: MySQL, Oracle, Microsoft SQL Server and Postgre SQL.\n",
        "\n",
        "2. NoSQL DBMS: These are designed to handle large-scale data and provide high performance for scenarios where relational models might be restrictive. They store data in various non-relational formats, such as key-value pairs, documents, graphs, or columns.\n",
        "\n",
        "  Examples: MongoDB, Cassandra, DynamoDB and Redis.\n",
        "\n",
        "3. Object-Oriented DBMS (OODBMS): It integrates object-oriented programming concepts into the database environment, allowing data to be stored as objects. This approach supports complex data types and relationships, making it ideal for applications requiring advanced data modeling and real-world simulations.\n",
        "\n",
        "  Examples: ObjectDB, db4o."
      ],
      "metadata": {
        "id": "r0_QkFziIwCI"
      }
    },
    {
      "cell_type": "markdown",
      "source": [
        "#**RDBMS**\n",
        "\n",
        "RDBMS stands for Relational Database Management Systems. It is a program that allows us to create, delete, and update a relational database. A Relational Database is a database system that stores and retrieves data in a tabular format organized in the form of rows and columns.\n"
      ],
      "metadata": {
        "id": "kOrnF_6URSJf"
      }
    },
    {
      "cell_type": "code",
      "execution_count": null,
      "metadata": {
        "id": "EN75J-ae5p5E"
      },
      "outputs": [],
      "source": []
    }
  ]
}