{
  "nbformat": 4,
  "nbformat_minor": 0,
  "metadata": {
    "colab": {
      "provenance": [],
      "authorship_tag": "ABX9TyOqVFiiMIGZ7Pnjkineeu/h"
    },
    "kernelspec": {
      "name": "python3",
      "display_name": "Python 3"
    },
    "language_info": {
      "name": "python"
    }
  },
  "cells": [
    {
      "cell_type": "markdown",
      "source": [
        "#**SQL CLAUSES**\n",
        "\n",
        "SQL clauses are keywords used to structure and define operations in your SQL statements—especially in SELECT queries.\n",
        "\n",
        "These are the main SQL clauses used in querying:\n",
        "\n",
        "1. **SELECT** : Specifies columns to retrieve\n",
        "\n",
        "2. **FROM** : Indicates source tables\n",
        "\n",
        "3. **JOIN** : Combines rows from multiple tables\n",
        "\n",
        "4. **WHERE** : Filters rows before grouping\n",
        "\n",
        "5. **GROUP BY** : Groups rows for aggregation\n",
        "\n",
        "6. **HAVING** : Filters aggregated groups\n",
        "\n",
        "7. **ORDER BY** : Sorts result rows\n",
        "\n",
        "8. **LIMIT/TOP** : Limits the number of rows returned in the results."
      ],
      "metadata": {
        "id": "eS3Jiyo2FTU9"
      }
    },
    {
      "cell_type": "markdown",
      "source": [
        "#**SQL OPERATORS**\n",
        "\n",
        "SQL operators are symbols or keywords used to perform operations on values or expressions in SQL queries. They’re essential for filtering, comparing, or performing calculations.\n",
        "\n",
        "These are the main SQL Operators:\n",
        "\n",
        "1. **Comparison Operators** : Used to compare values and return true or false.\n",
        "\n",
        "  Operators: =, !=, <>, >, <, >=, <=\n",
        "\n",
        "2. **Logical Operators** : Used to combine multiple conditions in WHERE, HAVING, etc.\n",
        "\n",
        "  Operators: AND, OR, NOT\n",
        "\n",
        "3. **Range Operators** : Checks if value is in a range.\n",
        "\n",
        "  Operator: BETWEEN\n",
        "\n",
        "4. **Membership Operators** : Checks if value exists in a list.\n",
        "\n",
        "  Operators: IN, NOT IN\n",
        "\n",
        "5. **Search Operators** : Also known as Pattern Matching Operators. Search and Matches the pattern.\n",
        "\n",
        "  Operators: LIKE, NOT LIKE, _ , %\n",
        "\n",
        "6. **SET Operators** : Combine results from multiple SELECT queries.\n",
        "\n",
        "  Operators: UNION, UNION ALL, INTERSECT, EXCEPT/MINUS\n",
        "\n",
        "7. **Arithmatic Operators** : Used to perform mathematical calculations.\n",
        "\n",
        "  Operators: +, -, *, /, %(Modulus)"
      ],
      "metadata": {
        "id": "ZGTldYV9PrrW"
      }
    },
    {
      "cell_type": "markdown",
      "source": [
        "#**EXECUTION ORDER OF SQL CLAUSES**\n",
        "\n",
        "SQL doesn't execute the clauses in the order you write them. Here's the correct execution order:\n",
        "\n",
        "1. FROM\n",
        "2. WHERE\n",
        "3. GROUP BY\n",
        "4. HAVING\n",
        "5. SELECT\n",
        "6. ORDER BY\n",
        "7. LIMIT/TOP"
      ],
      "metadata": {
        "id": "z0beHlgtTlG8"
      }
    }
  ]
}